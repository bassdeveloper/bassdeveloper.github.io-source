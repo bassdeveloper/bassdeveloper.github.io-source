{
 "cells": [
  {
   "cell_type": "markdown",
   "metadata": {},
   "source": [
    "# Simple Linear Regression\n",
    "\n",
    "## Data Description\n",
    "\n",
    "For a given company, 30 random people were selected and their **years of experience** and **salary** were recorded in a dataset. This dataset is going to be analyzed for our Simple Linear Regression model to discover if there is a some correlation between both salary and years of experience.\n",
    "\n",
    "The simple linear regression model would tell us about the *best-fitting-line* for the relationship.\n",
    "\n",
    "The formula is the following:\n",
    "\n",
    "$$ y = b_0 + b_1*x_1$$\n",
    "\n",
    "Where $y$ is the **dependent variable** and $x_1$ (or $x$ since there is only 1 variable) is the **independent variable**. $b_0$ (constant) and $b_1$ are the **Co-efficients**."
   ]
  },
  {
   "cell_type": "code",
   "execution_count": null,
   "metadata": {
    "collapsed": true
   },
   "outputs": [],
   "source": []
  }
 ],
 "metadata": {
  "kernelspec": {
   "display_name": "Python 3",
   "language": "python",
   "name": "python3"
  },
  "language_info": {
   "codemirror_mode": {
    "name": "ipython",
    "version": 3
   },
   "file_extension": ".py",
   "mimetype": "text/x-python",
   "name": "python",
   "nbconvert_exporter": "python",
   "pygments_lexer": "ipython3",
   "version": "3.6.1"
  }
 },
 "nbformat": 4,
 "nbformat_minor": 2
}
